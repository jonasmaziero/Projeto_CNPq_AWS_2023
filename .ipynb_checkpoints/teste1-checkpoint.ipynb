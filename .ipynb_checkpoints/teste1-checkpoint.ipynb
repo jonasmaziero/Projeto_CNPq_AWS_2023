{
 "cells": [
  {
   "cell_type": "markdown",
   "id": "29cde7dc-624b-4eb1-aa45-2d9153d07fe9",
   "metadata": {},
   "source": [
    "# Hello world em Braket"
   ]
  },
  {
   "cell_type": "code",
   "execution_count": 14,
   "id": "8e2cd83f-ca00-412c-a7e8-255f6135164c",
   "metadata": {
    "tags": []
   },
   "outputs": [],
   "source": [
    "# sdk para facilitar o acesso aos servicos da AWS\n",
    "import boto3 "
   ]
  },
  {
   "cell_type": "code",
   "execution_count": 15,
   "id": "9a6b455d-b6db-49cb-b6fe-5068c96559d7",
   "metadata": {
    "tags": []
   },
   "outputs": [],
   "source": [
    "# funcao a ser usada para criar circuitos quanticos\n",
    "from braket.circuits import Circuit "
   ]
  },
  {
   "cell_type": "code",
   "execution_count": 16,
   "id": "a0f8d2b0-d49b-4890-af5f-f53ed79e41c1",
   "metadata": {
    "tags": []
   },
   "outputs": [],
   "source": [
    "# importa os computadores quanticos disponiveis via AWS\n",
    "from braket.aws import AwsDevice "
   ]
  },
  {
   "cell_type": "code",
   "execution_count": 17,
   "id": "3e08cf3c-7c6f-4a94-8856-cdd9ddfbda17",
   "metadata": {
    "tags": []
   },
   "outputs": [],
   "source": [
    "import matplotlib.pyplot as plt"
   ]
  },
  {
   "cell_type": "code",
   "execution_count": 18,
   "id": "525ef511-4aed-464f-9a3e-60155ed58235",
   "metadata": {
    "tags": []
   },
   "outputs": [],
   "source": [
    "# para obter a ID da conta na AWS\n",
    "aws_account_id = boto3.client(\"sts\").get_caller_identity()[\"Account\"] "
   ]
  },
  {
   "cell_type": "markdown",
   "id": "8ba480ca-ced1-4b0b-9b0e-2ba007d711b5",
   "metadata": {},
   "source": [
    "## Criando a visualizando o circuito quântico"
   ]
  },
  {
   "cell_type": "code",
   "execution_count": 20,
   "id": "ff9fc920-3f59-4440-9897-a994cdcf951f",
   "metadata": {
    "tags": []
   },
   "outputs": [],
   "source": [
    "# cria um circuito para preparar um estado de Bell\n",
    "bell = Circuit().h(0).cnot(0,1)\n",
    "#bell = Circuit(); bell.h(0); bell.cnot(0,1)"
   ]
  },
  {
   "cell_type": "code",
   "execution_count": 21,
   "id": "1ace775f-223a-424c-9be8-4f75f7c682d1",
   "metadata": {
    "tags": []
   },
   "outputs": [
    {
     "name": "stdout",
     "output_type": "stream",
     "text": [
      "T  : |0|1|\n",
      "          \n",
      "q0 : -H-C-\n",
      "        | \n",
      "q1 : ---X-\n",
      "\n",
      "T  : |0|1|\n"
     ]
    }
   ],
   "source": [
    "print(bell)"
   ]
  },
  {
   "cell_type": "markdown",
   "id": "49bd5957-a1d4-49e8-81e4-9ad9aac650f6",
   "metadata": {},
   "source": [
    "## Simulação"
   ]
  },
  {
   "cell_type": "code",
   "execution_count": 7,
   "id": "b9c4cdb6-a023-4190-83a0-4a14ce68de47",
   "metadata": {
    "tags": []
   },
   "outputs": [],
   "source": [
    "# para usar o simulador na AWS (ARN significa Amazon Resource Name)\n",
    "simulator = AwsDevice(\"arn:aws:braket:::device/quantum-simulator/amazon/sv1\")"
   ]
  },
  {
   "cell_type": "code",
   "execution_count": 10,
   "id": "9abb40d1-7fcb-4b40-8081-4ee77fac8fb3",
   "metadata": {
    "tags": []
   },
   "outputs": [],
   "source": [
    "# para executar o circuito no simulador\n",
    "#task = simulator.run(bell, s3_destination_folder=s3_folder, shots = 1000)\n",
    "task = simulator.run(bell, shots = 2**10) # 2**10 = 1024"
   ]
  },
  {
   "cell_type": "code",
   "execution_count": 11,
   "id": "ff7e467d-4db1-42b0-8690-f8b7eb6f385b",
   "metadata": {
    "tags": []
   },
   "outputs": [
    {
     "name": "stdout",
     "output_type": "stream",
     "text": [
      "Counter({'00': 514, '11': 486})\n"
     ]
    }
   ],
   "source": [
    "counts = task.result().measurement_counts\n",
    "print(counts)"
   ]
  },
  {
   "cell_type": "code",
   "execution_count": 12,
   "id": "91ad4c45-7c7b-4a88-b918-f05ec9fc1423",
   "metadata": {
    "tags": []
   },
   "outputs": [
    {
     "data": {
      "text/plain": [
       "<BarContainer object of 2 artists>"
      ]
     },
     "execution_count": 12,
     "metadata": {},
     "output_type": "execute_result"
    },
    {
     "data": {
      "image/png": "[encoded data removed]",
      "text/plain": [
       "<Figure size 640x480 with 1 Axes>"
      ]
     },
     "metadata": {},
     "output_type": "display_data"
    }
   ],
   "source": [
    "plt.bar(counts.keys(), counts.values())"
   ]
  },
  {
   "cell_type": "markdown",
   "id": "9664fcd1-0d0e-4905-90f1-b5fb83313995",
   "metadata": {},
   "source": [
    "## Experimento - usando íons (IonQ)"
   ]
  },
  {
   "cell_type": "code",
   "execution_count": 13,
   "id": "1a5a5780-153b-4279-8f9d-37fd97e23a8b",
   "metadata": {
    "tags": []
   },
   "outputs": [],
   "source": [
    "# copia o ARN ID da maquina em: https://us-east-1.console.aws.amazon.com/braket/home?region=us-east-1#/devices\n",
    "# determina o computador quantico a ser usado\n",
    "device = AwsDevice(\"arn:aws:braket:us-east-1::device/qpu/ionq/Aria-1\") # esse é o IonQ - Aria 1"
   ]
  },
  {
   "cell_type": "code",
   "execution_count": 14,
   "id": "43eccc17-2bbd-419a-af54-ed794c3cd6bf",
   "metadata": {
    "tags": []
   },
   "outputs": [],
   "source": [
    "task = device.run(bell, shots = 100)"
   ]
  },
  {
   "cell_type": "markdown",
   "id": "0fbc483c-f5d1-4ec6-bd0c-7d9a91da088a",
   "metadata": {},
   "source": [
    "Nesta página tem instruções de como acompanhar e recuperar os dados de uma certa tarefa:\n",
    "- https://docs.aws.amazon.com/braket/latest/developerguide/braket-monitor-tasks-sdk.html"
   ]
  },
  {
   "cell_type": "code",
   "execution_count": 23,
   "id": "b576b3f0-6921-4bff-a207-2702150297cb",
   "metadata": {
    "tags": []
   },
   "outputs": [
    {
     "name": "stdout",
     "output_type": "stream",
     "text": [
      "ID of task: arn:aws:braket:us-east-1:119665825387:quantum-task/22a7630e-58ed-49f1-bcf5-645c02eb5c51\n",
      "Status of task: CREATED\n"
     ]
    }
   ],
   "source": [
    "task_id = task.id; print('ID of task:', task_id)\n",
    "status = task.state(); print('Status of task:', status)"
   ]
  },
  {
   "cell_type": "code",
   "execution_count": 4,
   "id": "69257a7d-57bb-4860-aec5-bf245bc270b8",
   "metadata": {
    "tags": []
   },
   "outputs": [],
   "source": [
    "task_id = 'arn:aws:braket:us-east-1:119665825387:quantum-task/22a7630e-58ed-49f1-bcf5-645c02eb5c51'"
   ]
  },
  {
   "cell_type": "code",
   "execution_count": 5,
   "id": "4541c800-9a74-485a-9889-279bfbf61d12",
   "metadata": {
    "tags": []
   },
   "outputs": [],
   "source": [
    "from braket.aws import AwsQuantumTask\n",
    "task_load = AwsQuantumTask(arn=task_id)"
   ]
  },
  {
   "cell_type": "code",
   "execution_count": 6,
   "id": "3b9f2ca4-7faf-496d-a174-29411ed5f952",
   "metadata": {
    "tags": []
   },
   "outputs": [],
   "source": [
    "result = task_load.result()"
   ]
  },
  {
   "cell_type": "code",
   "execution_count": 7,
   "id": "f2f19db9-986c-481e-a60a-0efae514b099",
   "metadata": {
    "tags": []
   },
   "outputs": [
    {
     "name": "stdout",
     "output_type": "stream",
     "text": [
      "Counter({'11': 52, '00': 45, '10': 2, '01': 1})\n"
     ]
    }
   ],
   "source": [
    "counts = result.measurement_counts\n",
    "print(counts)"
   ]
  },
  {
   "cell_type": "code",
   "execution_count": 10,
   "id": "d1d8cf7d-3266-44d9-91ad-4a0191c20dfb",
   "metadata": {
    "scrolled": true,
    "tags": []
   },
   "outputs": [
    {
     "data": {
      "text/plain": [
       "<BarContainer object of 4 artists>"
      ]
     },
     "execution_count": 10,
     "metadata": {},
     "output_type": "execute_result"
    },
    {
     "data": {
      "image/png": "[encoded data removed]",
      "text/plain": [
       "<Figure size 640x480 with 1 Axes>"
      ]
     },
     "metadata": {},
     "output_type": "display_data"
    }
   ],
   "source": [
    "plt.bar(counts.keys(), counts.values())"
   ]
  },
  {
   "cell_type": "code",
   "execution_count": null,
   "id": "e1d910fd",
   "metadata": {},
   "outputs": [],
   "source": []
  },
  {
   "cell_type": "code",
   "execution_count": null,
   "id": "425557d3-93c4-415a-926f-d8addccdf03d",
   "metadata": {},
   "outputs": [],
   "source": []
  },
  {
   "cell_type": "code",
   "execution_count": null,
   "id": "8fe701a8-48a6-4c6f-8e49-3cdabccb5721",
   "metadata": {},
   "outputs": [],
   "source": []
  },
  {
   "cell_type": "code",
   "execution_count": null,
   "id": "51d12264-b841-412a-a3f8-0f694b57a653",
   "metadata": {},
   "outputs": [],
   "source": []
  }
 ],
 "metadata": {
  "kernelspec": {
   "display_name": "Python 3 (ipykernel)",
   "language": "python",
   "name": "python3"
  },
  "language_info": {
   "codemirror_mode": {
    "name": "ipython",
    "version": 3
   },
   "file_extension": ".py",
   "mimetype": "text/x-python",
   "name": "python",
   "nbconvert_exporter": "python",
   "pygments_lexer": "ipython3",
   "version": "3.11.1"
  }
 },
 "nbformat": 4,
 "nbformat_minor": 5
}
